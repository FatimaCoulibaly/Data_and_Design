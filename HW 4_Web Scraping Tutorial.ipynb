{
 "cells": [
  {
   "cell_type": "markdown",
   "metadata": {},
   "source": [
    "# Web Scraping"
   ]
  },
  {
   "cell_type": "code",
   "execution_count": 46,
   "metadata": {},
   "outputs": [
    {
     "data": {
      "text/html": [
       "<iframe width=\"560\" height=\"315\" src=\"https://www.youtube.com/embed/dFKwcFJHLhE?ecver=1\" frameborder=\"0\" allow=\"autoplay; encrypted-media\" allowfullscreen></iframe>"
      ],
      "text/plain": [
       "<IPython.core.display.HTML object>"
      ]
     },
     "metadata": {},
     "output_type": "display_data"
    }
   ],
   "source": [
    "%%HTML\n",
    "<iframe width=\"560\" height=\"315\" src=\"https://www.youtube.com/embed/dFKwcFJHLhE?ecver=1\" frameborder=\"0\" allow=\"autoplay; encrypted-media\" allowfullscreen></iframe>"
   ]
  },
  {
   "cell_type": "code",
   "execution_count": 47,
   "metadata": {},
   "outputs": [],
   "source": [
    "import requests\n",
    "k = requests.get('http://www.boomsbeat.com/articles/2192/20140403/50-interesting-facts-about-kanye-west-had-a-near-death-experience-in-2002-his-stylist-went-to-yale.htm')"
   ]
  },
  {
   "cell_type": "code",
   "execution_count": 26,
   "metadata": {},
   "outputs": [
    {
     "name": "stdout",
     "output_type": "stream",
     "text": [
      "<!DOCTYPE html>\n",
      "<html\n",
      "itemscope itemtype=\"https://schema.org/NewsArticle\" lang=\"en\"><head><meta http-equiv=\"content-type\" content=\"text/html; charset=utf-8\" />\n",
      "<title>50 interesting facts about Kanye West: Had a near death-experience in 2002, his stylist went to Yale | BOOMSbeat</title>\n",
      "<link rel=\"dns-prefetch\" href=\"//bba-1tmxd3aba43noa.stackpathdns.com\" /><link rel=\"dns-prefetch\" href=\"//bbd-1tm\n"
     ]
    }
   ],
   "source": [
    "print(k.text[:400])"
   ]
  },
  {
   "cell_type": "code",
   "execution_count": 27,
   "metadata": {},
   "outputs": [],
   "source": [
    "from bs4 import BeautifulSoup\n",
    "soup = BeautifulSoup(k.text, 'html.parser')"
   ]
  },
  {
   "cell_type": "code",
   "execution_count": 28,
   "metadata": {},
   "outputs": [],
   "source": [
    "facts = soup.find_all('p')"
   ]
  },
  {
   "cell_type": "code",
   "execution_count": 29,
   "metadata": {},
   "outputs": [
    {
     "data": {
      "text/plain": [
       "89"
      ]
     },
     "execution_count": 29,
     "metadata": {},
     "output_type": "execute_result"
    }
   ],
   "source": [
    "len(facts)"
   ]
  },
  {
   "cell_type": "code",
   "execution_count": 30,
   "metadata": {},
   "outputs": [
    {
     "data": {
      "text/plain": [
       "<p class=\"art-date\">\n",
       "<meta content=\"2014-04-03T11:57:00-04:00\" itemprop=\"datePublished\">\n",
       "<time class=\"time-format\" data-timestamp=\"1475593960\" datetime=\"2016-10-04T11:12:40-04:00\" itemprop=\"dateModified\">3 April 2014, 11:57 am EDT</time>\n",
       "<span class=\"t1\" itemprop=\"author\" itemscope=\"\" itemtype=\"https://schema.org/Person\"> By <a href=\"/reporters/staff\" itemprop=\"url\"><em itemprop=\"name\">Staff</em></a></span> </meta></p>"
      ]
     },
     "execution_count": 30,
     "metadata": {},
     "output_type": "execute_result"
    }
   ],
   "source": [
    "facts[0]"
   ]
  },
  {
   "cell_type": "code",
   "execution_count": 31,
   "metadata": {},
   "outputs": [
    {
     "data": {
      "text/plain": [
       "'\\n\\n3 April 2014, 11:57 am EDT\\n By Staff '"
      ]
     },
     "execution_count": 31,
     "metadata": {},
     "output_type": "execute_result"
    }
   ],
   "source": [
    "facts[0].text"
   ]
  },
  {
   "cell_type": "code",
   "execution_count": 32,
   "metadata": {},
   "outputs": [
    {
     "data": {
      "text/plain": [
       "[<p>Kanye West is a Grammy-winning rapper who is currently engaged to Kim Kardashian and he is well known for his outrageous statements and for his broad musical palette.</p>,\n",
       " <p>Kanye Omari West was born June 8, 1977 in Atlanta.</p>,\n",
       " <p>His father Ray West was a black panther in the 60s and 70s and he later became one of the first black photojournalists at the Atlanta-Journal Constitution and later became a Christian counselor. His mother Donda was English professor at Clark Atlanta University. He later moved to Chicago at the age of three when his parents divorced.</p>,\n",
       " <p>The name Kanye means \"the only one\" in Swahilli.</p>,\n",
       " <p>Kanye lived in China for more than a year with his mother when he was in fifth grade. His mother was a visiting professor there at the time and he joined her.</p>,\n",
       " <p>Kanye attended Chicago State University/Columbia College in Chicago.  He dropped out to pursue music which is why he named his 2004 debut album, \"The College Dropout.\"</p>,\n",
       " <p>Kanye's struggle to transition from producer to MC is well documented throughout his music. However, 'Ye didn't keep to quiet about his desire to become a full-fledged rapper. Def Jam A&amp;R Chris Anokute recalled that Yeezy would often play his demo for him in his cubicle when he would stop by Def Jam's offices to pick up his production checks.</p>,\n",
       " <p>At the start of his music career, Kanye apparently kept his business dealings all in the family. West's late mother Donda-a professor of English at Clark Atlanta University and later Chicago State University-retired from teaching to become her son's manager for the early part of his career.</p>,\n",
       " <p>He sold his first beat to local Chicago rapper Gravity for $8,800.</p>,\n",
       " <p>He got his first big break through No I.D. (born Dion Ernest Wilson) is a veteran hip hop producer and current VP at Def Jam. He taught Kanye how to produce beats and gave him his start in the music business-all because their moms forced the two to hang out.</p>,\n",
       " <p>No I.D.'s mother convinced him to meet this \"energetic\" kid, and the lessons paid off: \"At first it was just like, 'Alright man take this, learn this, go, git git git.' But eventually he started getting good and then I started managing him.\" West's subsequent success only bolstered No I.D.'s reputation outside of Chicago-a powerful lesson in why you should probably listen to your mother.</p>,\n",
       " <p>He initially rose to fame as a producer for Roc-A-Fella Records. He is was influential on Jay-Z's 2001 album, 'The Blueprint', producing 5 of the 13 tracks and two bonus tracks, more than any of the other producers on the album.</p>,\n",
       " <p>He dropped out of college and had a slew of random jobs. He worked as a telemarketer and sold insurance to Montgomery Ward credit card holders. \"I was way better than most of the people there,\" he told Playboy. \"I could sit around and draw pictures, basically do other [things] while I was reading the teleprompter.\"</p>,\n",
       " <p>Kanye was in a near fatal car accident while he was driving home from the studio in October 2002. The injuries were bad and he had to have a metal plate put into his chin.</p>,\n",
       " <p>While he was recovering in hospital, he didn't want to stop recording music so he asked for an electronic drum machine which he used to continue composing new music.</p>,\n",
       " <p>He admits that the idea of becoming a male porn star crossed his mind once or twice before.</p>,\n",
       " <p>His single debut is \"Through the Wire\" because he recorded it while he was still wearing the metal brace in his mouth.</p>,\n",
       " <p>Chaka Khan initially refused to grant Kanye permission to use the pitched-up sample of her vocals from \"Through the Fire\" on College Dropout. But according to the video's co-director Coodie Simmons who told <a href=\"http://espn.go.com/blog/music/post/_/id/4151/coodie-breaks-down-his-music-videos\" rel=\"nofollow\">ESPN.com</a> , a Sunday barbecue at Coodie's house changed hip-hop history. \"Kanye brought Chaka Khan's son and I was like, 'We've got to shoot this video,' so we showed him the \"Through The Wire\" video. He was like, 'Aw man, I've got to show my mom this and tell her we're trying to get this done.' And I would say about two weeks later, she cleared the sample.\"</p>,\n",
       " <p><iframe height=\"480\" src=\"http://www.youtube.com/embed/uvb-1wjAtk4\" width=\"853\"></iframe></p>,\n",
       " <p>He is a huge fan of Fiona Apple and her music. Yeezy told Apple she was \"possibly [his] favorite\" and that the lyrics and singing on her debut Tidal made him want to work with producer Jon Brion \"so I could be like the rap version of you.\" West went so far as to say \"I hold you higher than Lauryn Hill in my eyes.\"</p>,\n",
       " <p>'College Dropout' was album of the year by almost every publication (New York Times, Time Magazine, GQ, Spin, XXL, Rolling Stone). NME voted Franz Ferdinand's debut number one and Kanye's album number seven.</p>,\n",
       " <p>West was the most nominated artist at the 47th Annual Grammy Awards with 10 nods, and he took home three trophies - Best Rap Album, Best Rap Song for \"Jesus Walks\" and Best R&amp;B Song for producing Alicia Keys' \"You Don't Know My Name.\"</p>,\n",
       " <p>Following the success of his The College Dropout album, he treated himself by purchasing an 18th century aquarium with about 30 koi fish in it.</p>,\n",
       " <p>With the headline \"Hip-Hop's Class Act,\" West becomes one of the rare entertainers to appear on the cover of Time. The lengthy article details the contradictions of The College Dropout and of West himself, who admits that when starting out in hip-hop, \"It was a strike against me that I didn't wear baggy jeans and jerseys and that I never hustled, never sold drugs.\"</p>,\n",
       " <p>He used the money from the \"Diamonds from Sierra Leone\" music video to raise awareness about blood diamonds and the abuse of human rights that happen in the mining process.</p>,\n",
       " <p>He caused controversy when he strayed  from his scripted monologue at the live televised Concert for Hurricane Relief when he said \"George Bush doesn't care about black people.\"  With a shocked looking Mike Myers at his side, West's comments air live on NBC on the East Coast but are edited out of the West Coast version later that night. \"People have lost their lives, lost their families,\" he says a week later on The Ellen DeGeneres Show. \"It's the least I could do to go up there and say something from my heart.\"</p>,\n",
       " <p><iframe height=\"480\" src=\"http://www.youtube.com/embed/zIUzLpO1kxI\" width=\"853\"></iframe></p>,\n",
       " <p>His nicknames include Ye, The Louis Vuitton Don, Yeezy or konman.</p>,\n",
       " <p>Even after being named Best Hip-Hop Artist at the MTV Europe Music Awards in Copenhagen, a fuming West storms on stage as the award for Best Video is being given to Parisian duo Justice vs. Simian. In a profanity-laced tirade, West says he should have won the prize for \"Touch the Sky,\" because his video \"cost a million dollars, Pamela Anderson was in it.\"</p>,\n",
       " <p><iframe height=\"480\" src=\"http://www.youtube.com/embed/YkwQbuAGLj4\" width=\"853\"></iframe></p>,\n",
       " <p>Kanye was named International Man of the Year by GQ in 2007 at a ceremony at Covent Garden's Opera House in London.</p>,\n",
       " <p>Unfortunately, his mother died that same year following complications while getting plastic surgery.</p>,\n",
       " <p>Kanye says he realizes, \"Nothing is promised in life except for death.\" and he lives everyday with that in mind.</p>,\n",
       " <p>Kanye broke down at a concert in Paris, a week after the passing of his mother, Dr. Donda West, as he tried to sing the verses of \"Hey Mama,\" a song he had written earlier on in his career in dedication to her.</p>,\n",
       " <p><iframe height=\"480\" src=\"http://www.youtube.com/embed/2ZXlnJ5o63g\" width=\"853\"></iframe></p>,\n",
       " <p>He launched an online travel company called \"Kanye Travel Ventures\" (KTV) through his official website in 2008.</p>,\n",
       " <p>After the infamous  Taylor Swift Gate VMAs incident in 2009, he decided to leave the country for a while. He went to Japan, then Rome, before finally moving to Hawaii for 6 months to start working on music again.</p>,\n",
       " <p><iframe height=\"480\" src=\"http://www.youtube.com/embed/UhL2LoYaZ90\" width=\"853\"></iframe></p>,\n",
       " <p>In addition to avoiding the VMAs backlash, 'Ye was able to slow down and spend time reflecting. \"It was the first time I got to stop, since my mom had passed, because I never stopped and never tried to even soak in what all had happened,\" he later told Ellen Degeneres. Plus he got to do fun stuff like intern at Fendi.</p>,\n",
       " <p>The Eternal Sunshine of the Spotless Mind director visited the studio on the same the day West was recording \"Diamonds From Sierra Leone,\" producer Jon Brion <a href=\"http://www.mtv.com/news/articles/1507538/kanyes-co-pilot-talks-late-registration.jhtml\" rel=\"nofollow\">told MTV</a> . In addition to playing drums on the Grammy-winning song, Gondry's more famous Late Registration contribution is the video for \"Heard 'Em Say\" featuring Adam Levine.</p>,\n",
       " <p>He said once in an interview that he prefers finalizing a song in post production more than having sex.</p>,\n",
       " <p>One of his favorite bands is  Scottish rock group Franz Ferdinand.</p>,\n",
       " <p>The song, 'Stronger', famously used a sample of Daft Punk's 'Harder, Better, Faster, Stronger'. But Kanye has also created some unreleased songs that contain samples from Broadway hit music, 'Wicked'.</p>,\n",
       " <p>Kanye was engaged to designer Alexis  Phifer for 18 months before he began a relationship Amber Rose. The couple makes a fashionable pair, wearing attention-grabbing ensembles around the world. \"He'll pick out something and he'll be like 'Babe, just ... no.,'\"</p>,\n",
       " <p>For Kanye, being famous has always been an unbearable drain. In his new track 'New Slaves', he compares being a celebrity to, erm, being a slave. Ironically, he is currently engaged to reality TV star Kim Kardashian who is known for loving the media.</p>,\n",
       " <p>At one point in his career-circa the release of Graduation in 2007-Kanye was slated to star in a TV series. Back by producers Rick Rubin and Larry Charles, the show was set to be a half-hour scripted sitcom based West's life and music career. Despite numerous mentions of the show to the press, it ultimately never made it to TV.</p>,\n",
       " <p>He is a sensitive person at heart. An episode of South Park depicting Kanye as an egomaniac is said to have \"hurt [his] feelings\".</p>,\n",
       " <p>Kanye and Royce have a long-standing feud stemming from a 2003 song that West produced for the Detroit rhymer titled \"Heartbeat.\" West alleges that Nickel Nine never paid for the beat, but recorded to it and released it on Build And Destroy: The Lost Sessions regardless. He has since stated that he will never work with Royce again.</p>,\n",
       " <p>Although 'Ye has a penchant for left field collaborations-most notably Chris Martin of Coldplay, Daft Punk, Bon Iver and Katy Perry-one of his most unexpected collabs came with rock group 30 Seconds To Mars.</p>,\n",
       " <p>He is a budding fashion designer and he and he collaborated with French brand A.P.C. He garnered attention for selling a plain white t-shirt for $120. <img class=\"imgNone magnify\" id=\"36487\" src=\"https://bbd-1tmxd3aba43noa.stackpathdns.com/data/images/full/36487/white-jpg.png?w=650\" title=\"white shirt\" width=\"600\"/></p>,\n",
       " <p>Kanye opened up a burger chain in Chicago called Fatburger in 2008. When he opened it, he said he had plans to open 10 stores. He opened two before running into some financial problems and so he closed them down in 2011.</p>]"
      ]
     },
     "execution_count": 32,
     "metadata": {},
     "output_type": "execute_result"
    }
   ],
   "source": [
    "facts[2:53]"
   ]
  },
  {
   "cell_type": "code",
   "execution_count": 33,
   "metadata": {},
   "outputs": [
    {
     "data": {
      "text/plain": [
       "'Kanye West is a Grammy-winning rapper who is currently engaged to Kim Kardashian and he is well known for his outrageous statements and for his broad musical palette.'"
      ]
     },
     "execution_count": 33,
     "metadata": {},
     "output_type": "execute_result"
    }
   ],
   "source": [
    "facts[2].text"
   ]
  },
  {
   "cell_type": "code",
   "execution_count": 34,
   "metadata": {},
   "outputs": [],
   "source": [
    "facts = facts[3:53]"
   ]
  },
  {
   "cell_type": "code",
   "execution_count": 35,
   "metadata": {},
   "outputs": [],
   "source": [
    "table = []\n",
    "for i in facts:\n",
    "    fact = i.text\n",
    "    table.append(fact)"
   ]
  },
  {
   "cell_type": "code",
   "execution_count": 36,
   "metadata": {},
   "outputs": [
    {
     "data": {
      "text/plain": [
       "50"
      ]
     },
     "execution_count": 36,
     "metadata": {},
     "output_type": "execute_result"
    }
   ],
   "source": [
    "len(table)"
   ]
  },
  {
   "cell_type": "code",
   "execution_count": 37,
   "metadata": {},
   "outputs": [
    {
     "data": {
      "text/plain": [
       "['Kanye Omari West was born June 8, 1977 in Atlanta.',\n",
       " 'His father Ray West was a black panther in the 60s and 70s and he later became one of the first black photojournalists at the Atlanta-Journal Constitution and later became a Christian counselor. His mother Donda was English professor at Clark Atlanta University. He later moved to Chicago at the age of three when his parents divorced.',\n",
       " 'The name Kanye means \"the only one\" in Swahilli.',\n",
       " 'Kanye lived in China for more than a year with his mother when he was in fifth grade. His mother was a visiting professor there at the time and he joined her.',\n",
       " 'Kanye attended Chicago State University/Columbia College in Chicago.  He dropped out to pursue music which is why he named his 2004 debut album, \"The College Dropout.\"']"
      ]
     },
     "execution_count": 37,
     "metadata": {},
     "output_type": "execute_result"
    }
   ],
   "source": [
    "table[:5]"
   ]
  },
  {
   "cell_type": "code",
   "execution_count": 38,
   "metadata": {},
   "outputs": [],
   "source": [
    "import pandas as pd\n",
    "df = pd.DataFrame(table, columns =['Interesting Facts'])"
   ]
  },
  {
   "cell_type": "code",
   "execution_count": 39,
   "metadata": {},
   "outputs": [
    {
     "data": {
      "text/html": [
       "<div>\n",
       "<style scoped>\n",
       "    .dataframe tbody tr th:only-of-type {\n",
       "        vertical-align: middle;\n",
       "    }\n",
       "\n",
       "    .dataframe tbody tr th {\n",
       "        vertical-align: top;\n",
       "    }\n",
       "\n",
       "    .dataframe thead th {\n",
       "        text-align: right;\n",
       "    }\n",
       "</style>\n",
       "<table border=\"1\" class=\"dataframe\">\n",
       "  <thead>\n",
       "    <tr style=\"text-align: right;\">\n",
       "      <th></th>\n",
       "      <th>Interesting Facts</th>\n",
       "    </tr>\n",
       "  </thead>\n",
       "  <tbody>\n",
       "    <tr>\n",
       "      <th>0</th>\n",
       "      <td>Kanye Omari West was born June 8, 1977 in Atla...</td>\n",
       "    </tr>\n",
       "    <tr>\n",
       "      <th>1</th>\n",
       "      <td>His father Ray West was a black panther in the...</td>\n",
       "    </tr>\n",
       "    <tr>\n",
       "      <th>2</th>\n",
       "      <td>The name Kanye means \"the only one\" in Swahilli.</td>\n",
       "    </tr>\n",
       "    <tr>\n",
       "      <th>3</th>\n",
       "      <td>Kanye lived in China for more than a year with...</td>\n",
       "    </tr>\n",
       "    <tr>\n",
       "      <th>4</th>\n",
       "      <td>Kanye attended Chicago State University/Columb...</td>\n",
       "    </tr>\n",
       "  </tbody>\n",
       "</table>\n",
       "</div>"
      ],
      "text/plain": [
       "                                   Interesting Facts\n",
       "0  Kanye Omari West was born June 8, 1977 in Atla...\n",
       "1  His father Ray West was a black panther in the...\n",
       "2   The name Kanye means \"the only one\" in Swahilli.\n",
       "3  Kanye lived in China for more than a year with...\n",
       "4  Kanye attended Chicago State University/Columb..."
      ]
     },
     "execution_count": 39,
     "metadata": {},
     "output_type": "execute_result"
    }
   ],
   "source": [
    "df.head()"
   ]
  },
  {
   "cell_type": "code",
   "execution_count": 48,
   "metadata": {},
   "outputs": [],
   "source": [
    "df.to_csv('kanye_facts.csv', index=False, encoding='utf-8')"
   ]
  },
  {
   "cell_type": "code",
   "execution_count": 49,
   "metadata": {},
   "outputs": [],
   "source": [
    "df = pd.read_csv('kanye_facts.csv', encoding='utf-8')"
   ]
  },
  {
   "cell_type": "code",
   "execution_count": 50,
   "metadata": {},
   "outputs": [
    {
     "data": {
      "text/html": [
       "<div>\n",
       "<style scoped>\n",
       "    .dataframe tbody tr th:only-of-type {\n",
       "        vertical-align: middle;\n",
       "    }\n",
       "\n",
       "    .dataframe tbody tr th {\n",
       "        vertical-align: top;\n",
       "    }\n",
       "\n",
       "    .dataframe thead th {\n",
       "        text-align: right;\n",
       "    }\n",
       "</style>\n",
       "<table border=\"1\" class=\"dataframe\">\n",
       "  <thead>\n",
       "    <tr style=\"text-align: right;\">\n",
       "      <th></th>\n",
       "      <th>Interesting Facts</th>\n",
       "    </tr>\n",
       "  </thead>\n",
       "  <tbody>\n",
       "    <tr>\n",
       "      <th>0</th>\n",
       "      <td>Kanye Omari West was born June 8, 1977 in Atla...</td>\n",
       "    </tr>\n",
       "    <tr>\n",
       "      <th>1</th>\n",
       "      <td>His father Ray West was a black panther in the...</td>\n",
       "    </tr>\n",
       "    <tr>\n",
       "      <th>2</th>\n",
       "      <td>The name Kanye means \"the only one\" in Swahilli.</td>\n",
       "    </tr>\n",
       "    <tr>\n",
       "      <th>3</th>\n",
       "      <td>Kanye lived in China for more than a year with...</td>\n",
       "    </tr>\n",
       "    <tr>\n",
       "      <th>4</th>\n",
       "      <td>Kanye attended Chicago State University/Columb...</td>\n",
       "    </tr>\n",
       "    <tr>\n",
       "      <th>5</th>\n",
       "      <td>Kanye's struggle to transition from producer t...</td>\n",
       "    </tr>\n",
       "    <tr>\n",
       "      <th>6</th>\n",
       "      <td>At the start of his music career, Kanye appare...</td>\n",
       "    </tr>\n",
       "  </tbody>\n",
       "</table>\n",
       "</div>"
      ],
      "text/plain": [
       "                                   Interesting Facts\n",
       "0  Kanye Omari West was born June 8, 1977 in Atla...\n",
       "1  His father Ray West was a black panther in the...\n",
       "2   The name Kanye means \"the only one\" in Swahilli.\n",
       "3  Kanye lived in China for more than a year with...\n",
       "4  Kanye attended Chicago State University/Columb...\n",
       "5  Kanye's struggle to transition from producer t...\n",
       "6  At the start of his music career, Kanye appare..."
      ]
     },
     "execution_count": 50,
     "metadata": {},
     "output_type": "execute_result"
    }
   ],
   "source": [
    "df.head(7)"
   ]
  },
  {
   "cell_type": "code",
   "execution_count": 52,
   "metadata": {},
   "outputs": [],
   "source": [
    "k = requests.get('https://www.peachandlily.com/pages/korean-skin-care-routine')"
   ]
  },
  {
   "cell_type": "code",
   "execution_count": 53,
   "metadata": {},
   "outputs": [
    {
     "name": "stdout",
     "output_type": "stream",
     "text": [
      "\n",
      "\n",
      "\n",
      "\n",
      "\n",
      "\n",
      "<!doctype html>\n",
      "<html lang=\"en\">\n",
      "<head>\n",
      "  <link rel=\"dns-prefetch\" href=\"//script.crazyegg.com\">\n",
      "  <link rel=\"dns-prefetch\" href=\"//static.chartbeat.com\">\n",
      "  <link rel=\"dns-prefetch\" href=\"//assets.backinstock.org\">\n",
      "  <link rel=\"dns-prefetch\" href=\"//connect.facebook.net\">\n",
      "  <link rel=\"dns-prefetch\" href=\"//www.google-analytics.com\">\n",
      "  <link rel=\"dns-prefetch\" href=\"//s3.amazonaws.com\">\n",
      "  \n",
      "  \n"
     ]
    }
   ],
   "source": [
    "print(k.text[:400])"
   ]
  },
  {
   "cell_type": "code",
   "execution_count": 54,
   "metadata": {},
   "outputs": [],
   "source": [
    "from bs4 import BeautifulSoup\n",
    "soup = BeautifulSoup(k.text, 'html.parser')"
   ]
  },
  {
   "cell_type": "code",
   "execution_count": 55,
   "metadata": {},
   "outputs": [],
   "source": [
    "facts = soup.find_all('p')"
   ]
  },
  {
   "cell_type": "code",
   "execution_count": 56,
   "metadata": {},
   "outputs": [
    {
     "data": {
      "text/plain": [
       "18"
      ]
     },
     "execution_count": 56,
     "metadata": {},
     "output_type": "execute_result"
    }
   ],
   "source": [
    "len(facts)"
   ]
  },
  {
   "cell_type": "code",
   "execution_count": 58,
   "metadata": {
    "scrolled": true
   },
   "outputs": [
    {
     "data": {
      "text/plain": [
       "<p>Koreans are known for their glowing skin, which is achieved through a unique regimen. It’s a bit more extensive than what you’re probably used to (involving up to 10 steps or more), which can seem daunting at first. But we’re here to break it down for you, helping you understand the steps so you can customize them to fit your needs. It’s all about achieving healthy radiance from within, and while it may take a little longer, the results are worth it in the long run. <strong>Trust Us!</strong></p>"
      ]
     },
     "execution_count": 58,
     "metadata": {},
     "output_type": "execute_result"
    }
   ],
   "source": [
    "facts[0]"
   ]
  },
  {
   "cell_type": "code",
   "execution_count": 59,
   "metadata": {},
   "outputs": [
    {
     "data": {
      "text/plain": [
       "'Koreans are known for their glowing skin, which is achieved through a unique regimen. It’s a bit more extensive than what you’re probably used to (involving up to 10 steps or more), which can seem daunting at first. But we’re here to break it down for you, helping you understand the steps so you can customize them to fit your needs. It’s all about achieving healthy radiance from within, and while it may take a little longer, the results are worth it in the long run. Trust Us!'"
      ]
     },
     "execution_count": 59,
     "metadata": {},
     "output_type": "execute_result"
    }
   ],
   "source": [
    "facts[0].text"
   ]
  },
  {
   "cell_type": "code",
   "execution_count": 60,
   "metadata": {},
   "outputs": [
    {
     "data": {
      "text/plain": [
       "[<p><strong>WATER-BASED CLEANSER</strong> - Following with a water- based cleanser removes any remaining residue and leaves skin supple. The key is to find a gentle formula that won’t strip or dry out your skin.</p>,\n",
       " <p>Korean beauty heritage is steeped in natural ingredients passed down from generation to generation. This tradition continues today with formulations that tend to shun harsh chemicals and draw from the Earth instead.</p>,\n",
       " <p>Though formulated with varying viscosities, essences tend to be a bit more fluid and less concentrated than serums. Their main purpose is to moisturize the skin and make the most of the serums that follow. Think of your skin as a sponge: once it’s plumped up with water, everything else absorbs more easily.</p>,\n",
       " <p>These products are formulated with active ingredients that target specific needs by skin type, such as fine lines, loss of firmness, hyperpigmentation and dehydration. You can customize your regimen here, adding or removing products as you see fit. You can use them in any order, but generally thicker, more viscous products go on later.</p>,\n",
       " <p><strong>EYE CREAM</strong> - The skin around your eyes is thinner and more easily dehydrated, so it should be treated with a cream specifically formulated to protect, nourish, brighten or de-puff.</p>,\n",
       " <p><strong>MOISTURIZER</strong> - A moisturizer designed for your skin type creates a barrier that will lock in all the beneficial ingredients you’ve just applied, instead of letting them evaporate out of your skin.</p>,\n",
       " <p></p>,\n",
       " <p>SPF (A.M. ONLY) Sunscreen is huge in Korea, and rightly so. Every morning, finish off your skincare regimen with either a dedicated sunscreen or a BB cream or cushion compact that includes SPF.</p>,\n",
       " <p>These are optional items that don’t have to be part of your daily routine, but can be done a few times a week or whenever you need an extra skincare boost.</p>,\n",
       " <p>Use a gentle, non-irritating exfoliator 2-3 times per week to promote cell turnover, unclog pores, allow for better product absorption and keep skin looking youthful. Koreans often use gommage peels that allow dead skin to simply roll off with a mix of botanical and fruit extracts.</p>,\n",
       " <p>Single-use sheet masks are formulated with the same active ingredients as serums, but are more of an “a la carte” version that you can use as necessary. A good arsenal of sheet masks enables you to customize your routine depending on how your skin is feeling.</p>,\n",
       " <p>￼Skin regeneration goes into overtime while you sleep, and no- rinse sleeping masks make the most of this process. Packed with active ingredients, they feel like creams and stay on your skin all night. Use them 2-3 times per week in lieu of your regular moisturizer to get your beauty sleep (literally).</p>,\n",
       " <p>Korean women work hard for their flawless skin, following a multi-step beauty regimen that has garnered a ton of beauty industry buzz. Too intimidated to put together your own Korean skincare routine? Choose from these pre-bundled kits and get ready to reap the rewards.</p>,\n",
       " <p>New to K-beauty? Learn about the products in the <span style=\"text-decoration: underline;\"><a href=\"https://www.peachandlily.com/pages/korean-skin-care-routine\">Korean Skin Care Routine</a>.<br/><br/></span>Special pricing with up to 15% savings for all skincare kits.</p>,\n",
       " <p>No refunds or returns on individual items comprising the kit. Please be advised that kit components may change without notice depending new product availability, discontinuation of product(s), etc.</p>,\n",
       " <p>While we make all effort to ensure information is updated in a timely manner, occasions may arise when there may be a delay in page updates to reflect changes to kit components.<span style=\"text-decoration: underline;\"><br/></span></p>]"
      ]
     },
     "execution_count": 60,
     "metadata": {},
     "output_type": "execute_result"
    }
   ],
   "source": [
    "facts[2:53]"
   ]
  },
  {
   "cell_type": "code",
   "execution_count": 61,
   "metadata": {},
   "outputs": [
    {
     "data": {
      "text/plain": [
       "'WATER-BASED CLEANSER - Following with a water- based cleanser removes any remaining residue and leaves skin supple. The key is to find a gentle formula that won’t strip or dry out your skin.'"
      ]
     },
     "execution_count": 61,
     "metadata": {},
     "output_type": "execute_result"
    }
   ],
   "source": [
    "facts[2].text"
   ]
  },
  {
   "cell_type": "code",
   "execution_count": 62,
   "metadata": {},
   "outputs": [],
   "source": [
    "facts = facts[3:53]"
   ]
  },
  {
   "cell_type": "code",
   "execution_count": 63,
   "metadata": {},
   "outputs": [],
   "source": [
    "table = []\n",
    "for i in facts:\n",
    "    fact = i.text\n",
    "    table.append(fact)"
   ]
  },
  {
   "cell_type": "code",
   "execution_count": 64,
   "metadata": {},
   "outputs": [
    {
     "data": {
      "text/plain": [
       "15"
      ]
     },
     "execution_count": 64,
     "metadata": {},
     "output_type": "execute_result"
    }
   ],
   "source": [
    "len(table)"
   ]
  },
  {
   "cell_type": "code",
   "execution_count": 79,
   "metadata": {},
   "outputs": [
    {
     "data": {
      "text/plain": [
       "['Korean beauty heritage is steeped in natural ingredients passed down from generation to generation. This tradition continues today with formulations that tend to shun harsh chemicals and draw from the Earth instead.',\n",
       " 'Though formulated with varying viscosities, essences tend to be a bit more fluid and less concentrated than serums. Their main purpose is to moisturize the skin and make the most of the serums that follow. Think of your skin as a sponge: once it’s plumped up with water, everything else absorbs more easily.',\n",
       " 'These products are formulated with active ingredients that target specific needs by skin type, such as fine lines, loss of firmness, hyperpigmentation and dehydration. You can customize your regimen here, adding or removing products as you see fit. You can use them in any order, but generally thicker, more viscous products go on later.',\n",
       " 'EYE CREAM - The skin around your eyes is thinner and more easily dehydrated, so it should be treated with a cream specifically formulated to protect, nourish, brighten or de-puff.',\n",
       " 'MOISTURIZER - A moisturizer designed for your skin type creates a barrier that will lock in all the beneficial ingredients you’ve just applied, instead of letting them evaporate out of your skin.']"
      ]
     },
     "execution_count": 79,
     "metadata": {},
     "output_type": "execute_result"
    }
   ],
   "source": [
    "table[:5]"
   ]
  },
  {
   "cell_type": "code",
   "execution_count": 70,
   "metadata": {},
   "outputs": [],
   "source": [
    "import pandas as pd\n",
    "df = pd.DataFrame(table, columns =['How to Step by Step'])"
   ]
  },
  {
   "cell_type": "code",
   "execution_count": 71,
   "metadata": {},
   "outputs": [
    {
     "data": {
      "text/html": [
       "<div>\n",
       "<style scoped>\n",
       "    .dataframe tbody tr th:only-of-type {\n",
       "        vertical-align: middle;\n",
       "    }\n",
       "\n",
       "    .dataframe tbody tr th {\n",
       "        vertical-align: top;\n",
       "    }\n",
       "\n",
       "    .dataframe thead th {\n",
       "        text-align: right;\n",
       "    }\n",
       "</style>\n",
       "<table border=\"1\" class=\"dataframe\">\n",
       "  <thead>\n",
       "    <tr style=\"text-align: right;\">\n",
       "      <th></th>\n",
       "      <th>How to Step by Step</th>\n",
       "    </tr>\n",
       "  </thead>\n",
       "  <tbody>\n",
       "    <tr>\n",
       "      <th>0</th>\n",
       "      <td>Korean beauty heritage is steeped in natural i...</td>\n",
       "    </tr>\n",
       "    <tr>\n",
       "      <th>1</th>\n",
       "      <td>Though formulated with varying viscosities, es...</td>\n",
       "    </tr>\n",
       "    <tr>\n",
       "      <th>2</th>\n",
       "      <td>These products are formulated with active ingr...</td>\n",
       "    </tr>\n",
       "    <tr>\n",
       "      <th>3</th>\n",
       "      <td>EYE CREAM - The skin around your eyes is thinn...</td>\n",
       "    </tr>\n",
       "    <tr>\n",
       "      <th>4</th>\n",
       "      <td>MOISTURIZER - A moisturizer designed for your ...</td>\n",
       "    </tr>\n",
       "  </tbody>\n",
       "</table>\n",
       "</div>"
      ],
      "text/plain": [
       "                                 How to Step by Step\n",
       "0  Korean beauty heritage is steeped in natural i...\n",
       "1  Though formulated with varying viscosities, es...\n",
       "2  These products are formulated with active ingr...\n",
       "3  EYE CREAM - The skin around your eyes is thinn...\n",
       "4  MOISTURIZER - A moisturizer designed for your ..."
      ]
     },
     "execution_count": 71,
     "metadata": {},
     "output_type": "execute_result"
    }
   ],
   "source": [
    "df.head()"
   ]
  },
  {
   "cell_type": "code",
   "execution_count": 73,
   "metadata": {},
   "outputs": [],
   "source": [
    "df.to_csv('kbeauty_skincare.csv', index=False, encoding='utf-8')"
   ]
  },
  {
   "cell_type": "code",
   "execution_count": 74,
   "metadata": {},
   "outputs": [],
   "source": [
    "df = pd.read_csv('kbeauty_skincare.csv', encoding='utf-8')"
   ]
  },
  {
   "cell_type": "code",
   "execution_count": 75,
   "metadata": {},
   "outputs": [
    {
     "data": {
      "text/html": [
       "<div>\n",
       "<style scoped>\n",
       "    .dataframe tbody tr th:only-of-type {\n",
       "        vertical-align: middle;\n",
       "    }\n",
       "\n",
       "    .dataframe tbody tr th {\n",
       "        vertical-align: top;\n",
       "    }\n",
       "\n",
       "    .dataframe thead th {\n",
       "        text-align: right;\n",
       "    }\n",
       "</style>\n",
       "<table border=\"1\" class=\"dataframe\">\n",
       "  <thead>\n",
       "    <tr style=\"text-align: right;\">\n",
       "      <th></th>\n",
       "      <th>How to Step by Step</th>\n",
       "    </tr>\n",
       "  </thead>\n",
       "  <tbody>\n",
       "    <tr>\n",
       "      <th>0</th>\n",
       "      <td>Korean beauty heritage is steeped in natural i...</td>\n",
       "    </tr>\n",
       "    <tr>\n",
       "      <th>1</th>\n",
       "      <td>Though formulated with varying viscosities, es...</td>\n",
       "    </tr>\n",
       "    <tr>\n",
       "      <th>2</th>\n",
       "      <td>These products are formulated with active ingr...</td>\n",
       "    </tr>\n",
       "    <tr>\n",
       "      <th>3</th>\n",
       "      <td>EYE CREAM - The skin around your eyes is thinn...</td>\n",
       "    </tr>\n",
       "    <tr>\n",
       "      <th>4</th>\n",
       "      <td>MOISTURIZER - A moisturizer designed for your ...</td>\n",
       "    </tr>\n",
       "    <tr>\n",
       "      <th>5</th>\n",
       "      <td>NaN</td>\n",
       "    </tr>\n",
       "    <tr>\n",
       "      <th>6</th>\n",
       "      <td>SPF (A.M. ONLY) Sunscreen is huge in Korea, an...</td>\n",
       "    </tr>\n",
       "  </tbody>\n",
       "</table>\n",
       "</div>"
      ],
      "text/plain": [
       "                                 How to Step by Step\n",
       "0  Korean beauty heritage is steeped in natural i...\n",
       "1  Though formulated with varying viscosities, es...\n",
       "2  These products are formulated with active ingr...\n",
       "3  EYE CREAM - The skin around your eyes is thinn...\n",
       "4  MOISTURIZER - A moisturizer designed for your ...\n",
       "5                                                NaN\n",
       "6  SPF (A.M. ONLY) Sunscreen is huge in Korea, an..."
      ]
     },
     "execution_count": 75,
     "metadata": {},
     "output_type": "execute_result"
    }
   ],
   "source": [
    "df.head(7)"
   ]
  }
 ],
 "metadata": {
  "kernelspec": {
   "display_name": "Python 3",
   "language": "python",
   "name": "python3"
  },
  "language_info": {
   "codemirror_mode": {
    "name": "ipython",
    "version": 3
   },
   "file_extension": ".py",
   "mimetype": "text/x-python",
   "name": "python",
   "nbconvert_exporter": "python",
   "pygments_lexer": "ipython3",
   "version": "3.6.5"
  }
 },
 "nbformat": 4,
 "nbformat_minor": 2
}
